{
 "cells": [
  {
   "cell_type": "code",
   "execution_count": null,
   "metadata": {},
   "outputs": [],
   "source": [
    "import pandas as pd\n",
    "import geopandas as gpd\n",
    "import re\n",
    "\n",
    "import requests\n",
    "\n",
    "\n",
    "pd.reset_option('display.max_colwidth')\n",
    "#pd.set_option('display.max_colwidth', None)"
   ]
  },
  {
   "cell_type": "markdown",
   "metadata": {},
   "source": [
    "### 1. Centroid calculation for all Manhattan Streets - NYC Street Centerline dataset (https://data.cityofnewyork.us/City-Government/NYC-Street-Centerline-CSCL-/exjm-f27b) used\n",
    "Data dictionary (https://data.cityofnewyork.us/api/views/exjm-f27b/files/cba8af99-6cd5-49fd-9019-b4a6c2d9dff7?download=true&filename=Centerline.pdf)\n",
    "\n",
    "NB: some of the information in the data dictionary is out of date (last updated in 2016)"
   ]
  },
  {
   "cell_type": "code",
   "execution_count": null,
   "metadata": {},
   "outputs": [],
   "source": [
    "mnhttn_centerlines_res = requests.get('https://data.cityofnewyork.us/resource/8rma-cm9c.geojson?status=2&borocode=1&rw_type=1&$limit=50000')\n",
    "mnhttn_centerlines_res.status_code"
   ]
  },
  {
   "cell_type": "code",
   "execution_count": null,
   "metadata": {},
   "outputs": [],
   "source": [
    "mnhttn_streets = gpd.GeoDataFrame.from_features(mnhttn_centerlines_res.json()['features']).set_geometry('geometry').set_crs('EPSG:4326')\n",
    "mnhttn_streets = mnhttn_streets[['r_high_hn', 'r_low_hn', 'l_high_hn', 'l_low_hn', 'full_stree', 'geometry']]\n",
    "mnhttn_streets"
   ]
  },
  {
   "cell_type": "code",
   "execution_count": null,
   "metadata": {},
   "outputs": [],
   "source": [
    "# get house numbers\n",
    "mnhttn_streets.insert(loc=4, column='min_hn', value=mnhttn_streets[['r_low_hn', 'l_low_hn']].min(axis=1))\n",
    "mnhttn_streets.insert(loc=5, column='max_hn', value=mnhttn_streets[['r_high_hn', 'l_high_hn']].max(axis=1))\n",
    "\n",
    "mnhttn_streets.fillna({\n",
    "    'min_hn': '',\n",
    "    'max_hn': ''\n",
    "}, inplace=True)\n",
    "\n",
    "mnhttn_streets.insert(loc=6, column='hn_range', value=mnhttn_streets[['min_hn', 'max_hn']].agg(' - '.join, axis=1))\n",
    "mnhttn_streets.drop(columns=['r_high_hn', 'r_low_hn', 'l_high_hn', 'l_low_hn', 'min_hn', 'max_hn'], inplace=True)\n",
    "\n",
    "mnhttn_streets['hn_range'] = mnhttn_streets['hn_range'].str.replace(r'^\\s-\\s$', '', regex=True)\n",
    "\n",
    "# clean street names\n",
    "mnhttn_streets['full_stree'] = mnhttn_streets['full_stree'].str.title()\n",
    "\n",
    "# replacement of abbreviations\n",
    "mnhttn_streets['full_stree'] = mnhttn_streets['full_stree'].str.replace(r'\\bW\\b', 'West', regex=True)\n",
    "mnhttn_streets['full_stree'] = mnhttn_streets['full_stree'].str.replace(r'\\bE\\b', 'East', regex=True)\n",
    "mnhttn_streets['full_stree'] = mnhttn_streets['full_stree'].str.replace(r'\\bN\\b', 'North', regex=True)\n",
    "mnhttn_streets['full_stree'] = mnhttn_streets['full_stree'].str.replace(r'\\bS\\b', 'South', regex=True)\n",
    "mnhttn_streets['full_stree'] = mnhttn_streets['full_stree'].str.replace(r'\\bSt\\b', 'Street', regex=True)\n",
    "mnhttn_streets['full_stree'] = mnhttn_streets['full_stree'].str.replace(r'\\bAve\\b', 'Avenue', regex=True)\n",
    "mnhttn_streets['full_stree'] = mnhttn_streets['full_stree'].str.replace(r'\\bPl\\b', 'Place', regex=True)\n",
    "mnhttn_streets['full_stree'] = mnhttn_streets['full_stree'].str.replace(r'\\bLn\\b', 'Lane', regex=True)\n",
    "mnhttn_streets['full_stree'] = mnhttn_streets['full_stree'].str.replace(r'\\bAly\\b', 'Alley', regex=True)\n",
    "mnhttn_streets['full_stree'] = mnhttn_streets['full_stree'].str.replace(r'\\bDr\\b', 'Drive', regex=True)\n",
    "mnhttn_streets['full_stree'] = mnhttn_streets['full_stree'].str.replace(r'\\bSq\\b', 'Square', regex=True)\n",
    "mnhttn_streets['full_stree'] = mnhttn_streets['full_stree'].str.replace(r'\\bPlz\\b', 'Plaza', regex=True)\n",
    "mnhttn_streets['full_stree'] = mnhttn_streets['full_stree'].str.replace(r'\\bBlvd\\b', 'Boulevard', regex=True)\n",
    "mnhttn_streets['full_stree'] = mnhttn_streets['full_stree'].str.replace(r'\\bPkwy\\b', 'Parkway', regex=True)\n",
    "mnhttn_streets['full_stree'] = mnhttn_streets['full_stree'].str.replace(r'\\bRd\\b', 'Road', regex=True)\n",
    "mnhttn_streets['full_stree'] = mnhttn_streets['full_stree'].str.replace(r'\\bTer\\b', 'Terrace', regex=True)\n",
    "mnhttn_streets['full_stree'] = mnhttn_streets['full_stree'].str.replace(r'\\bCir\\b', 'Circle', regex=True)\n",
    "mnhttn_streets['full_stree'] = mnhttn_streets['full_stree'].str.replace(r'\\bEn\\b', 'Entrance', regex=True)\n",
    "mnhttn_streets['full_stree'] = mnhttn_streets['full_stree'].str.replace(r'\\bEspl\\b', 'Esplanade', regex=True)\n",
    "\n",
    "# transform to ordinal numbers\n",
    "\n",
    "# function to add st, nd, rd, th to numbers\n",
    "def to_ordinal(street_name):\n",
    "    match = re.search(r'\\b\\d{1,3}\\b', street_name)\n",
    "\n",
    "    if match is not None:\n",
    "        if (len(match.group(0)) >= 2) and (match.group(0)[-2] == '1'):\n",
    "            address = street_name[:match.end()] + 'th' + street_name[match.end():]\n",
    "        elif match.group(0)[-1] == '1':\n",
    "            address = street_name[:match.end()] + 'st' + street_name[match.end():]\n",
    "        elif match.group(0)[-1] == '2':\n",
    "            address = street_name[:match.end()] + 'nd' + street_name[match.end():]\n",
    "        elif match.group(0)[-1] == '3':\n",
    "            address = street_name[:match.end()] + 'rd' + street_name[match.end():]\n",
    "        else:\n",
    "            address = street_name[:match.end()] + 'th' + street_name[match.end():]\n",
    "    else:\n",
    "        return street_name\n",
    "    \n",
    "    return address\n",
    "\n",
    "mnhttn_streets['full_stree'] = mnhttn_streets['full_stree'].apply(lambda row: to_ordinal(row))\n",
    "\n",
    "# combine and create address\n",
    "mnhttn_streets.insert(loc=2, column='address', value=mnhttn_streets[['hn_range', 'full_stree']].agg(', '.join, axis=1))\n",
    "mnhttn_streets['address'] = mnhttn_streets['address'].str.replace(r'^,\\s', '', regex=True)\n",
    "mnhttn_streets['address'] = mnhttn_streets['address'].str.strip()\n",
    "mnhttn_streets.drop(columns=['hn_range', 'full_stree'], inplace=True)\n",
    "\n",
    "mnhttn_streets"
   ]
  },
  {
   "cell_type": "code",
   "execution_count": null,
   "metadata": {},
   "outputs": [],
   "source": [
    "# centroid calculation - warning ignored as the results are approximately correct based on visual inspection\n",
    "mnhttn_streets['centroid'] = mnhttn_streets['geometry'].centroid\n",
    "mnhttn_streets"
   ]
  },
  {
   "cell_type": "markdown",
   "metadata": {},
   "source": [
    "### 2. Overlay of taxi zones - NYC Taxi Zones dataset (https://data.cityofnewyork.us/Transportation/NYC-Taxi-Zones/d3c5-ddgc) used"
   ]
  },
  {
   "cell_type": "code",
   "execution_count": null,
   "metadata": {},
   "outputs": [],
   "source": [
    "mnhttn_zones_res = requests.get('https://data.cityofnewyork.us/resource/755u-8jsi.geojson?borough=Manhattan')\n",
    "mnhttn_zones_res.status_code"
   ]
  },
  {
   "cell_type": "code",
   "execution_count": null,
   "metadata": {},
   "outputs": [],
   "source": [
    "mnhttn_zones = gpd.GeoDataFrame.from_features(mnhttn_zones_res.json()['features']).set_geometry('geometry').set_crs('EPSG:4326')\n",
    "mnhttn_zones = mnhttn_zones[['location_id', 'zone', 'geometry']]\n",
    "mnhttn_zones"
   ]
  },
  {
   "cell_type": "code",
   "execution_count": null,
   "metadata": {},
   "outputs": [],
   "source": [
    "# cleaning of zone 103 which appears to be a combination of three zones\n",
    "mnhttn_zones.loc[19, 'zone'] = 'Liberty Island'\n",
    "mnhttn_zones.loc[20, 'location_id'] = '104'\n",
    "mnhttn_zones.loc[20, 'zone'] = 'Ellis Island'\n",
    "mnhttn_zones.loc[21, 'location_id'] = '105'\n",
    "mnhttn_zones.loc[21, 'zone'] = \"Governor's Island\""
   ]
  },
  {
   "cell_type": "markdown",
   "metadata": {},
   "source": [
    "### 3. Localisation of centroids in corresponding taxi zones"
   ]
  },
  {
   "cell_type": "code",
   "execution_count": null,
   "metadata": {},
   "outputs": [],
   "source": [
    "# plot all layers\n",
    "base = mnhttn_streets.plot(figsize = (100,100), color = \"grey\")\n",
    "centroid_layer = gpd.GeoSeries(mnhttn_streets[\"centroid\"]).plot(ax = base, color=\"red\", markersize=5)\n",
    "areas_layer = gpd.GeoSeries(mnhttn_zones[\"geometry\"]).boundary.plot(ax = centroid_layer, color=\"orange\")"
   ]
  },
  {
   "cell_type": "code",
   "execution_count": null,
   "metadata": {},
   "outputs": [],
   "source": [
    "# reset active geometry to centroid column\n",
    "mnhttn_streets.set_geometry(\"centroid\", inplace=True)\n",
    "\n",
    "# spatial join to assign the corresponding taxi zone to each point\n",
    "zoned_streets = gpd.sjoin(mnhttn_streets, mnhttn_zones, how='left', predicate='within')\n",
    "zoned_streets = zoned_streets.drop('index_right', axis=1)\n",
    "zoned_streets"
   ]
  },
  {
   "cell_type": "code",
   "execution_count": null,
   "metadata": {},
   "outputs": [],
   "source": [
    "# separate NaNs\n",
    "zoned_streets_2 = zoned_streets[zoned_streets['location_id'].isna()].drop(columns=['location_id', 'zone'])\n",
    "zoned_streets = zoned_streets[zoned_streets['location_id'].notna()]\n",
    "\n",
    "# reset active geometry to centroid column\n",
    "zoned_streets_2.set_geometry(\"centroid\", inplace=True)\n",
    "\n",
    "# spatial join to assign the corresponding taxi area to points on the common edges of 2 or more taxi zones\n",
    "zoned_streets_2 = gpd.sjoin(zoned_streets_2, mnhttn_zones, how='left', predicate='dwithin', distance=0.0005)\n",
    "zoned_streets_2 = zoned_streets_2.drop('index_right', axis=1)\n",
    "zoned_streets_2"
   ]
  },
  {
   "cell_type": "code",
   "execution_count": null,
   "metadata": {},
   "outputs": [],
   "source": [
    "# concatenate all dfs\n",
    "all_streets = pd.concat([zoned_streets, zoned_streets_2], ignore_index=True)\n",
    "all_streets = all_streets[~all_streets['location_id'].isin(['103', '104', '105', '153', '194', '202'])]\n",
    "all_streets"
   ]
  },
  {
   "cell_type": "code",
   "execution_count": null,
   "metadata": {},
   "outputs": [],
   "source": [
    "# add zones geometry to df\n",
    "all_streets = pd.merge(all_streets, mnhttn_zones, on='location_id', how='left').drop('zone_y', axis=1)\n",
    "\n",
    "all_streets.rename(columns={\n",
    "    'geometry_x': 'street_geometry',\n",
    "    'centroid': 'street_centroid',\n",
    "    'location_id': 'zone_id',\n",
    "    'zone_x': 'zone_name',\n",
    "    'geometry_y': 'zone_geometry'\n",
    "}, inplace=True)\n",
    "\n",
    "all_streets"
   ]
  },
  {
   "cell_type": "code",
   "execution_count": null,
   "metadata": {},
   "outputs": [],
   "source": [
    "# plot all layers\n",
    "base = gpd.GeoSeries(all_streets[\"street_geometry\"]).plot(figsize = (50,50), color = \"grey\")\n",
    "centroid_layer = gpd.GeoSeries(all_streets[\"street_centroid\"]).plot(ax = base, color=\"red\", markersize=5)\n",
    "areas_layer = gpd.GeoSeries(all_streets[\"zone_geometry\"]).boundary.plot(ax = centroid_layer, color=\"orange\")"
   ]
  },
  {
   "cell_type": "code",
   "execution_count": null,
   "metadata": {},
   "outputs": [],
   "source": [
    "# transform all zones multipolygons into linestrings\n",
    "'''\n",
    "lines = mnhttn_zones.geometry.apply(lambda x: (\n",
    "    list(map(LineString, zip(x.boundary.coords[:-1], x.boundary.coords[1:])))\n",
    "    if isinstance(x, Polygon)\n",
    "    else list(chain(*list(list(map(\n",
    "        LineString, zip(poly.boundary.coords[:-1], poly.boundary.coords[1:])\n",
    "    )) for poly in x.geoms)))\n",
    ")).explode()\n",
    "\n",
    "# output all edges and zones to which they belong\n",
    "result = {\n",
    "    str(line): list(mnhttn_zones.loc[\n",
    "        (mnhttn_zones.geometry.touches(line)) # line touches the polygon\n",
    "        & (mnhttn_zones.geometry.intersection(line).length > 0), # And the intersection is more than just a point\n",
    "        'location_id'\n",
    "    ].values)\n",
    "    for line in lines\n",
    "}\n",
    "\n",
    "result\n",
    "'''"
   ]
  },
  {
   "cell_type": "markdown",
   "metadata": {},
   "source": [
    "### 4. Identification of mobile food vending restrictions - using API behind NYC Mobile Food Vending Restricted Streets Map (https://a816-dohbesp.nyc.gov/IndicatorPublic/mobilefoodvending/)"
   ]
  },
  {
   "cell_type": "code",
   "execution_count": null,
   "metadata": {},
   "outputs": [],
   "source": [
    "# get all nyc restricted streets\n",
    "nyc_restricted_centerlines = requests.get('https://services3.arcgis.com/A6Zjpzrub8ESZ3c7/arcgis/rest/services/FS_MOVIS_RESTRICTED_STREETS/FeatureServer/0/query?f=geojson&where=RestrictStat%20%3D%20%27Active%27&returnGeometry=true&spatialRel=esriSpatialRelIntersects&maxAllowableOffset=1.0583354500041846&outFields=*&maxRecordCountFactor=4&outSR=102100&resultOffset=0&resultRecordCount=4000&cacheHint=true&quantizationParameters={%22mode%22%3A%22view%22%2C%22originPosition%22%3A%22upperLeft%22%2C%22tolerance%22%3A1.0583354500041846%2C%22extent%22%3A{%22xmin%22%3A978550.3499700576%2C%22ymin%22%3A148097.4157973975%2C%22xmax%22%3A1047926.146913752%2C%22ymax%22%3A239740.22496551275%2C%22spatialReference%22%3A{%22wkid%22%3A102718%2C%22latestWkid%22%3A2263}}}')\n",
    "nyc_restricted_centerlines.status_code"
   ]
  },
  {
   "cell_type": "code",
   "execution_count": null,
   "metadata": {},
   "outputs": [],
   "source": [
    "# transform to geodf\n",
    "restricted_streets = gpd.GeoDataFrame.from_features(nyc_restricted_centerlines.json()['features']).set_geometry('geometry').set_crs('EPSG:3857') # when transformed, crs is not so it must be set to original crs\n",
    "restricted_streets.to_crs('EPSG:4326', inplace=True) # transform to same crs as the all_streets geodf\n",
    "restricted_streets"
   ]
  },
  {
   "cell_type": "code",
   "execution_count": null,
   "metadata": {},
   "outputs": [],
   "source": [
    "# get Manhattan boundary\n",
    "mnhttn_boundary_res = requests.get('https://data.cityofnewyork.us/resource/7t3b-ywvw.geojson?BoroName=Manhattan')\n",
    "mnhttn_boundary_res.status_code"
   ]
  },
  {
   "cell_type": "code",
   "execution_count": null,
   "metadata": {},
   "outputs": [],
   "source": [
    "# transform to geodf\n",
    "mnhttn_boundary = gpd.GeoDataFrame.from_features(mnhttn_boundary_res.json()['features']).set_geometry('geometry').set_crs('EPSG:4326')\n",
    "mnhttn_boundary"
   ]
  },
  {
   "cell_type": "code",
   "execution_count": null,
   "metadata": {},
   "outputs": [],
   "source": [
    "# spatial join to filter for Manhattan restrictions\n",
    "mnhttn_restricted_streets = gpd.sjoin(restricted_streets, mnhttn_boundary, how='left', predicate='within')\n",
    "mnhttn_restricted_streets = mnhttn_restricted_streets[mnhttn_restricted_streets['boro_code'] == '1']\n",
    "mnhttn_restricted_streets = mnhttn_restricted_streets.drop('index_right', axis=1)\n",
    "mnhttn_restricted_streets"
   ]
  },
  {
   "cell_type": "code",
   "execution_count": null,
   "metadata": {},
   "outputs": [],
   "source": [
    "# plot for visual inspection\n",
    "base = mnhttn_restricted_streets.plot(figsize = (50,50), color = \"grey\")\n",
    "areas_layer = gpd.GeoSeries(mnhttn_boundary[\"geometry\"]).boundary.plot(ax = base, color=\"orange\")"
   ]
  },
  {
   "cell_type": "code",
   "execution_count": null,
   "metadata": {},
   "outputs": [],
   "source": [
    "# get unrestricted streets\n",
    "all_streets.set_geometry('street_centroid', inplace=True)\n",
    "unrestricted_streets = gpd.sjoin(all_streets, mnhttn_restricted_streets, how='left', predicate='dwithin', distance=0.0002)\n",
    "computed_restrictions = unrestricted_streets[~unrestricted_streets['Street'].isna()]\n",
    "unrestricted_streets = unrestricted_streets[unrestricted_streets['Street'].isna()]\n",
    "unrestricted_streets = unrestricted_streets[['address', 'street_geometry', 'street_centroid', 'zone_id', 'zone_name', 'zone_geometry']]\n",
    "unrestricted_streets"
   ]
  },
  {
   "cell_type": "code",
   "execution_count": null,
   "metadata": {},
   "outputs": [],
   "source": [
    "all_streets.set_geometry('street_geometry', inplace=True)\n",
    "# plot only computed restrictions for visual inspection\n",
    "base = all_streets.plot(figsize = (50,50), color = \"grey\")\n",
    "computed_restrictions_layer= gpd.GeoSeries(computed_restrictions[\"street_geometry\"]).plot(ax = base, color=\"red\")"
   ]
  },
  {
   "cell_type": "code",
   "execution_count": null,
   "metadata": {},
   "outputs": [],
   "source": [
    "all_streets.set_geometry('street_geometry', inplace=True)\n",
    "# plot computed restrictions on top of actual restrictions for visual inspection\n",
    "base = all_streets.plot(figsize = (50,50), color = \"grey\")\n",
    "actual_restrictions_layer = gpd.GeoSeries(mnhttn_restricted_streets[\"geometry\"]).plot(ax = base, color=\"blue\")\n",
    "computed_restrictions_layer = gpd.GeoSeries(computed_restrictions[\"street_geometry\"]).plot(ax = actual_restrictions_layer, color=\"red\")"
   ]
  },
  {
   "cell_type": "markdown",
   "metadata": {},
   "source": [
    "Perfect match. The blue lines that are not covered by red ones are not streets, but paths or boardwalks. These are not included in the streets dataset by design, and therefore won't be recommended."
   ]
  },
  {
   "cell_type": "code",
   "execution_count": null,
   "metadata": {},
   "outputs": [],
   "source": [
    "unrestricted_streets.rename(columns={\n",
    "    'address': 'street_address'\n",
    "}, inplace=True)\n",
    "\n",
    "unrestricted_streets.drop(columns=[\"zone_name\", \"zone_geometry\"], inplace=True)\n",
    "\n",
    "unrestricted_streets"
   ]
  },
  {
   "cell_type": "markdown",
   "metadata": {},
   "source": [
    "### 5. Separate restrictions for storage in their own db table"
   ]
  },
  {
   "cell_type": "code",
   "execution_count": null,
   "metadata": {},
   "outputs": [],
   "source": [
    "mnhttn_restricted_streets.drop(columns=['DOW', 'UNIQID', 'HR', 'RestrictStat', 'Note', 'OBJECTID', 'Shape__Length', 'boro_code', 'boro_name', 'shape_leng', 'shape_area'], inplace=True)\n",
    "mnhttn_restricted_streets"
   ]
  },
  {
   "cell_type": "code",
   "execution_count": null,
   "metadata": {},
   "outputs": [],
   "source": [
    "# clean DateStart & DateEnd\n",
    "mnhttn_restricted_streets[['DateStart', 'DateEnd']] = mnhttn_restricted_streets[['DateStart', 'DateEnd']].apply(pd.to_datetime, unit='ms')\n",
    "mnhttn_restricted_streets['DateStart'] = mnhttn_restricted_streets['DateStart'].dt.strftime('%Y-%m-%d')\n",
    "mnhttn_restricted_streets['DateEnd'] = mnhttn_restricted_streets['DateEnd'].dt.strftime('%Y-%m-%d')\n",
    "mnhttn_restricted_streets[['DateStart', 'DateEnd']] = mnhttn_restricted_streets[['DateStart', 'DateEnd']].apply(pd.to_datetime)\n",
    "mnhttn_restricted_streets"
   ]
  },
  {
   "cell_type": "code",
   "execution_count": null,
   "metadata": {},
   "outputs": [],
   "source": [
    "mnhttn_restricted_streets.rename(columns={\n",
    "    'geometry': 'restriction_street_geometry',\n",
    "    'Street': 'restriction_street',\n",
    "    'FStreet': 'restriction_fstreet',\n",
    "    'TStreet': 'restriction_tstreet',\n",
    "    'DateStart': 'restriction_fdate',\n",
    "    'DateEnd': 'restriction_tdate',\n",
    "    'MonStr': 'Monday',\n",
    "    'TueStr': 'Tuesday',\n",
    "    'WedStr': 'Wednesday',\n",
    "    'ThuStr': 'Thursday',\n",
    "    'FriStr': 'Friday',\n",
    "    'SatStr': 'Saturday',\n",
    "    'SunStr': 'Sunday'\n",
    "}, inplace=True)\n",
    "\n",
    "mnhttn_restricted_streets"
   ]
  },
  {
   "cell_type": "code",
   "execution_count": null,
   "metadata": {},
   "outputs": [],
   "source": [
    "# extract time intervals\n",
    "mnhttn_restricted_streets['Monday'] = mnhttn_restricted_streets['Monday'].str.extract(r'(\\d{1,2}:\\d{2}[AP]M\\s-\\s\\d{1,2}:\\d{2}[AP]M)')\n",
    "mnhttn_restricted_streets['Tuesday'] = mnhttn_restricted_streets['Tuesday'].str.extract(r'(\\d{1,2}:\\d{2}[AP]M\\s-\\s\\d{1,2}:\\d{2}[AP]M)')\n",
    "mnhttn_restricted_streets['Wednesday'] = mnhttn_restricted_streets['Wednesday'].str.extract(r'(\\d{1,2}:\\d{2}[AP]M\\s-\\s\\d{1,2}:\\d{2}[AP]M)')\n",
    "mnhttn_restricted_streets['Thursday'] = mnhttn_restricted_streets['Thursday'].str.extract(r'(\\d{1,2}:\\d{2}[AP]M\\s-\\s\\d{1,2}:\\d{2}[AP]M)')\n",
    "mnhttn_restricted_streets['Friday'] = mnhttn_restricted_streets['Friday'].str.extract(r'(\\d{1,2}:\\d{2}[AP]M\\s-\\s\\d{1,2}:\\d{2}[AP]M)')\n",
    "mnhttn_restricted_streets['Saturday'] = mnhttn_restricted_streets['Saturday'].str.extract(r'(\\d{1,2}:\\d{2}[AP]M\\s-\\s\\d{1,2}:\\d{2}[AP]M)')\n",
    "mnhttn_restricted_streets['Sunday'] = mnhttn_restricted_streets['Sunday'].str.extract(r'(\\d{1,2}:\\d{2}[AP]M\\s-\\s\\d{1,2}:\\d{2}[AP]M)')\n",
    "mnhttn_restricted_streets"
   ]
  },
  {
   "cell_type": "code",
   "execution_count": null,
   "metadata": {},
   "outputs": [],
   "source": [
    "# pivot to long\n",
    "mnhttn_restricted_streets = pd.melt(mnhttn_restricted_streets, id_vars=['restriction_street_geometry', 'restriction_street', 'restriction_fstreet', 'restriction_tstreet', 'restriction_fdate', 'restriction_tdate'], value_vars=['Monday', 'Tuesday', 'Wednesday', 'Thursday', 'Friday', 'Saturday', 'Sunday'], var_name='restriction_weekday', value_name='time_range')\n",
    "mnhttn_restricted_streets"
   ]
  },
  {
   "cell_type": "code",
   "execution_count": null,
   "metadata": {},
   "outputs": [],
   "source": [
    "# keep valid restrictions (e.g. a restriction can be active on weekdays not weekends -> remove weekend days)\n",
    "mnhttn_restricted_streets = mnhttn_restricted_streets[~mnhttn_restricted_streets['time_range'].isna()]\n",
    "mnhttn_restricted_streets"
   ]
  },
  {
   "cell_type": "code",
   "execution_count": null,
   "metadata": {},
   "outputs": [],
   "source": [
    "# split time interval\n",
    "mnhttn_restricted_streets[['restriction_ftime', 'restriction_ttime']] = mnhttn_restricted_streets['time_range'].str.split(' - ', n=1, expand=True)\n",
    "mnhttn_restricted_streets"
   ]
  },
  {
   "cell_type": "code",
   "execution_count": null,
   "metadata": {},
   "outputs": [],
   "source": [
    "# further cleaning\n",
    "mnhttn_restricted_streets.drop(columns=['time_range'], inplace=True)\n",
    "\n",
    "mnhttn_restricted_streets['restriction_ftime'] = pd.to_datetime(mnhttn_restricted_streets['restriction_ftime'], format='%I:%M%p').dt.strftime('%H:%M')\n",
    "mnhttn_restricted_streets['restriction_ttime'] = pd.to_datetime(mnhttn_restricted_streets['restriction_ttime'], format='%I:%M%p').dt.strftime('%H:%M')\n",
    "\n",
    "mnhttn_restricted_streets"
   ]
  },
  {
   "cell_type": "code",
   "execution_count": null,
   "metadata": {},
   "outputs": [],
   "source": [
    "# reorder, reset index, drop unnecessary col, insert col for id \n",
    "\n",
    "ordered_cols = ['restriction_street', 'restriction_fstreet', 'restriction_tstreet', 'restriction_fdate', 'restriction_tdate', 'restriction_street_geometry', 'restriction_weekday', 'restriction_ftime', 'restriction_ttime']\n",
    "mnhttn_restricted_streets = mnhttn_restricted_streets[ordered_cols]\n",
    "\n",
    "mnhttn_restricted_streets.reset_index(inplace=True)\n",
    "\n",
    "mnhttn_restricted_streets.drop(columns=['index'], inplace=True)\n",
    "\n",
    "mnhttn_restricted_streets.insert(loc=0, column='restriction_id', value=mnhttn_restricted_streets.index)\n",
    "\n",
    "mnhttn_restricted_streets"
   ]
  }
 ],
 "metadata": {
  "kernelspec": {
   "display_name": "Python 3",
   "language": "python",
   "name": "python3"
  },
  "language_info": {
   "codemirror_mode": {
    "name": "ipython",
    "version": 3
   },
   "file_extension": ".py",
   "mimetype": "text/x-python",
   "name": "python",
   "nbconvert_exporter": "python",
   "pygments_lexer": "ipython3",
   "version": "3.12.4"
  }
 },
 "nbformat": 4,
 "nbformat_minor": 2
}
